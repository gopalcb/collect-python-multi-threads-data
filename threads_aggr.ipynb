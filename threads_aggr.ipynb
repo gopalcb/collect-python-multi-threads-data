{
 "cells": [
  {
   "cell_type": "markdown",
   "id": "531f53d0-081b-4e49-907b-9ea2b218a75f",
   "metadata": {},
   "source": [
    "### Import necessary libraries"
   ]
  },
  {
   "cell_type": "code",
   "execution_count": 69,
   "id": "52c45402-a2fa-4405-af13-81260905d0c9",
   "metadata": {},
   "outputs": [],
   "source": [
    "import threading\n",
    "from queue import Queue\n",
    "import time"
   ]
  },
  {
   "cell_type": "markdown",
   "id": "841987eb-c230-42e8-ac02-0dfb1976070d",
   "metadata": {},
   "source": [
    "### Set max running thread limit"
   ]
  },
  {
   "cell_type": "code",
   "execution_count": 70,
   "id": "418b0de2-7ba1-4d94-9608-2872982cea4c",
   "metadata": {},
   "outputs": [],
   "source": [
    "# number of max thread can run at a time\n",
    "MAX_T = 5"
   ]
  },
  {
   "cell_type": "markdown",
   "id": "c2dc7369-b45e-441c-b9fe-e19a346c6d33",
   "metadata": {},
   "source": [
    "### Thread list validation"
   ]
  },
  {
   "cell_type": "code",
   "execution_count": 71,
   "id": "f136d6da-8120-4928-b790-6f9c09e43941",
   "metadata": {},
   "outputs": [],
   "source": [
    "def validate_thread_list(thread_list):\n",
    "    print(f'Validating thread list: {thread_list}')\n",
    "    if type(thread_list) != list:\n",
    "        print('Validation failed: thread_list var should be a list')\n",
    "        return False\n",
    "\n",
    "    if not thread_list:\n",
    "        print('Validation failed: thread_list cannot be empty list')\n",
    "        return False\n",
    "\n",
    "    if len(thread_list) > MAX_T:\n",
    "        print('Validation failed: thread limit exceeds')\n",
    "        return False\n",
    "\n",
    "    print('Threads validation success')\n",
    "    return True"
   ]
  },
  {
   "cell_type": "code",
   "execution_count": 72,
   "id": "64481b0a-127f-48d5-845b-c7dc938b34c6",
   "metadata": {},
   "outputs": [],
   "source": [
    "def start_process(thread_list):\n",
    "    if not validate_thread_list(thread_list):\n",
    "        raise Exception('Could not validate')\n",
    "        \n",
    "    print('Running threads parallelly..')\n",
    "    print(f'Thread list: {thread_list}')\n",
    "    # start all available threads\n",
    "    for thread in thread_list:\n",
    "        thread.start()\n",
    "\n",
    "    # join the threads ran before to complete all threads executions\n",
    "    for thread in thread_list:\n",
    "        thread.join()"
   ]
  },
  {
   "cell_type": "code",
   "execution_count": 73,
   "id": "9773c64f-c8b0-4057-a6ba-d81cc93ebeb2",
   "metadata": {},
   "outputs": [],
   "source": [
    "def aggregate_results(thread_queue):\n",
    "    print('Aggregating thread results..')\n",
    "    results_items_dict = {}\n",
    "    # traverse queue until empty\n",
    "    while not thread_queue.empty():\n",
    "        # get value\n",
    "        result_dict = thread_queue.get()\n",
    "        for key, value in result_dict.items():\n",
    "            results_items_dict[key] = value\n",
    "\n",
    "    return results_items_dict"
   ]
  },
  {
   "cell_type": "code",
   "execution_count": 74,
   "id": "c3d3bf7b-939f-4f45-a8d1-9263a4fc1f59",
   "metadata": {},
   "outputs": [],
   "source": [
    "def func1(param1):\n",
    "    print('Func1 started..waiting 2 sec')\n",
    "    time.sleep(2)\n",
    "    print('Func1 complete')\n",
    "    return f'func1 val: {param1}'\n",
    "\n",
    "\n",
    "def func2(param1, param2):\n",
    "    print('Func2 started..waiting 5 sec')\n",
    "    time.sleep(5)\n",
    "    print('Func2 complete')\n",
    "    return f'func2 val: {param1}, {param2}'\n",
    "\n",
    "\n",
    "def interface_function(param1, param2, ops):\n",
    "    # all threads will run these function\n",
    "    # Call different function based on parameter ops\n",
    "    if ops == 'func1':\n",
    "        return {'func1': func1(param1)}\n",
    "\n",
    "    if ops == 'func2':\n",
    "        return {'func2': func2(param1, param2)}\n"
   ]
  },
  {
   "cell_type": "code",
   "execution_count": 75,
   "id": "e7c7c702-2621-4851-a9c3-53c6142c7c33",
   "metadata": {},
   "outputs": [
    {
     "name": "stdout",
     "output_type": "stream",
     "text": [
      "Validating thread list: [<Thread(Thread-23 (<lambda>), initial)>, <Thread(Thread-24 (<lambda>), initial)>]\n",
      "Threads validation success\n",
      "Running threads parallelly..\n",
      "Thread list: [<Thread(Thread-23 (<lambda>), initial)>, <Thread(Thread-24 (<lambda>), initial)>]\n",
      "Func1 started..waiting 2 sec\n",
      "Func2 started..waiting 5 sec\n",
      "Func1 complete\n",
      "Func2 complete\n",
      "Aggregating thread results..\n",
      "Aggregated results: {'func1': 'func1 val: value1', 'func2': 'func2 val: value1, value2'}\n"
     ]
    }
   ],
   "source": [
    "ops_list = ['func1', 'func2']\n",
    "\n",
    "# initialize thread queue\n",
    "thread_que = Queue()\n",
    "thread_list = []  # contains a list of threads\n",
    "\n",
    "for ops in ops_list:\n",
    "    # make a thread object and insert into thread list\n",
    "    thread = threading.Thread(\n",
    "        target = lambda que, param1, param2, param3: que.put(interface_function(param1, param2, param3)),\n",
    "        args = (thread_que, 'value1', 'value2', ops)\n",
    "    )\n",
    "    thread_list.append(thread)\n",
    "\n",
    "# run all available threads in thread list\n",
    "start_process(thread_list)\n",
    "\n",
    "# aggregate results\n",
    "results_items_dict = aggregate_results(thread_que)\n",
    "print(f'Aggregated results: {results_items_dict}')"
   ]
  }
 ],
 "metadata": {
  "kernelspec": {
   "display_name": "Python 3 (ipykernel)",
   "language": "python",
   "name": "python3"
  },
  "language_info": {
   "codemirror_mode": {
    "name": "ipython",
    "version": 3
   },
   "file_extension": ".py",
   "mimetype": "text/x-python",
   "name": "python",
   "nbconvert_exporter": "python",
   "pygments_lexer": "ipython3",
   "version": "3.11.2"
  }
 },
 "nbformat": 4,
 "nbformat_minor": 5
}
